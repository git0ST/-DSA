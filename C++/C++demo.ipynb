{
 "cells": [
  {
   "cell_type": "markdown",
   "metadata": {},
   "source": [
    "### Input/Output"
   ]
  },
  {
   "cell_type": "code",
   "execution_count": null,
   "metadata": {},
   "outputs": [],
   "source": [
    "#include<iostream>\n",
    "\n",
    "int main()\n",
    "{\n",
    "    std::cout<<\"Hello, World!\";\n",
    "}"
   ]
  },
  {
   "cell_type": "markdown",
   "metadata": {},
   "source": [
    "Output: Hello, World!"
   ]
  },
  {
   "cell_type": "code",
   "execution_count": null,
   "metadata": {},
   "outputs": [],
   "source": [
    "#include<iostream>\n",
    "\n",
    "using namespade std;\n",
    "\n",
    "int main()\n",
    "{\n",
    "    cout<<\"Hello, World!\";\n",
    "}"
   ]
  },
  {
   "cell_type": "markdown",
   "metadata": {},
   "source": [
    "Output: Hello, World!"
   ]
  },
  {
   "cell_type": "code",
   "execution_count": null,
   "metadata": {},
   "outputs": [],
   "source": [
    "#include<iostream>\n",
    "\n",
    "using namespace std;\n",
    "\n",
    "int main()\n",
    "{\n",
    "    int x;\n",
    "    cin >> x;\n",
    "    cout << \"Value of x is: \" << x;\n",
    "    \n",
    "    return 0;\n",
    "    \n",
    "}"
   ]
  },
  {
   "cell_type": "markdown",
   "metadata": {},
   "source": [
    "Input: 10\n",
    "Output: Value of x is: 10"
   ]
  },
  {
   "cell_type": "code",
   "execution_count": null,
   "metadata": {},
   "outputs": [],
   "source": [
    "#include<iostream>\n",
    "\n",
    "using namespace std;\n",
    "\n",
    "int main()\n",
    "{\n",
    "    int x,y;\n",
    "    cin >> x >> y;\n",
    "    cout << \"Value of x is: \" << x << \"and y is: \" << y;\n",
    "    \n",
    "    return 0;\n",
    "    \n",
    "}"
   ]
  },
  {
   "cell_type": "markdown",
   "metadata": {},
   "source": [
    "Input: 10 12\n",
    "\n",
    "Output: Value of x is: 10 and y is: 12"
   ]
  },
  {
   "cell_type": "code",
   "execution_count": null,
   "metadata": {},
   "outputs": [],
   "source": [
    "#include<bits/stdc++.h> //This is a header file which includes all other header files\n"
   ]
  },
  {
   "cell_type": "markdown",
   "metadata": {},
   "source": [
    "### Data Type"
   ]
  },
  {
   "cell_type": "code",
   "execution_count": null,
   "metadata": {},
   "outputs": [],
   "source": [
    "#include<bits/stdc++.h>\n",
    "\n",
    "using namespace std;\n",
    "\n",
    "int main()\n",
    "{\n",
    "    unsigned short x;  \n",
    "    unsigned int x;  \n",
    "    int x;  \n",
    "    long x;  \n",
    "    unsigned long x;  \n",
    "    long long x;  \n",
    "    float x;  \n",
    "    double x;  \n",
    "    long double x;  \n",
    "    \n",
    "    float x= 5.6;\n",
    "    cout << \"value of y:\" << y;\n",
    "    \n",
    "    char ch;\n",
    "    cout << ch;\n",
    "    \n",
    "}"
   ]
  },
  {
   "cell_type": "markdown",
   "metadata": {},
   "source": [
    "   Datatype                            Bytes            Range   \n",
    "    unsigned short x; integer            2           0 to 65,535\n",
    "    unsigned int x;   integer            4           0 to 4,294,967,295\n",
    "    int x;            integer            4          -2,147,483,648 to 2,147,483,647\n",
    "    long x;                              4          -2,147,483,648 to 2,147,483,647\n",
    "    unsigned long x;  integer            4           0 to 4,294,967,295\n",
    "    long long x;      integer            8          -9,223,372,036,854,775,808 to 9,223,372,036,854,775,807\n",
    "\n",
    "    float x;          floating point     4           3.4e-38 to 3.4e+38\n",
    "    double x;         floating point     8          -1.7e-308 to 1.7e+308\n",
    "    long double x;    floating point     10         -1.7e-308 to 1.7e+308\n",
    "\n",
    "   string             multiple alphabet  \n",
    "    char              single alphabet\n"
   ]
  },
  {
   "cell_type": "code",
   "execution_count": null,
   "metadata": {},
   "outputs": [],
   "source": [
    "#include<bits/stdc++.h>\n",
    "using namespace std;\n",
    "\n",
    "int main()\n",
    "{\n",
    "    string s1, str;\n",
    "    string s2;\n",
    "    cin >> s1 >> s2;         // only takes input before the space\n",
    "    cout << s1 << \" \" << s2;\n",
    "    \n",
    "    getline(cin,str);        //takes input including the space\n",
    "    cout << str;\n",
    "    return 0;\n",
    "     \n",
    "}\n"
   ]
  },
  {
   "cell_type": "markdown",
   "metadata": {},
   "source": [
    "\n",
    "### // Write a program that takes an input of age\n",
    "### // and prints if you are adult or not"
   ]
  },
  {
   "cell_type": "code",
   "execution_count": null,
   "metadata": {},
   "outputs": [],
   "source": [
    "#include<bits/stdc++.h>\n",
    "\n",
    "using namespace std;\n",
    "\n",
    "int main()\n",
    "{\n",
    "    int age;\n",
    "    cin >> age;\n",
    "    \n",
    "    if(age >= 18)\n",
    "    {\n",
    "        cout << \"You are an adult\";\n",
    "    }\n",
    "    else                    // else statement doesnt require any condition if the precursor \n",
    "                            // if statement is given a condition suitable for the else statement \n",
    "    {\n",
    "        cout << \"you are not an adult\";\n",
    "    }\n",
    "    \n",
    "    return 0;\n",
    "}"
   ]
  },
  {
   "cell_type": "markdown",
   "metadata": {},
   "source": [
    "##### A school has following rules for grading system:\n",
    "##### a. Below 25  - F\n",
    "##### b. 24 to 44  - E\n",
    "##### c. 45 to 49  - D\n",
    "##### d. 50 to 59  - C\n",
    "##### e. 60 to 79  - B\n",
    "##### f. 80 to 100 - A\n",
    "##### Ask user to enter marks and print the corresponding grade."
   ]
  },
  {
   "cell_type": "code",
   "execution_count": null,
   "metadata": {},
   "outputs": [],
   "source": [
    "#include<bits/stdc++.h>\n",
    "\n",
    "using namespace std;\n",
    "\n",
    "int main()\n",
    "{\n",
    "    int marks;\n",
    "    cin >> marks;\n",
    "    \n",
    "    if(marks < 25)\n",
    "    {\n",
    "        cout << \"F\";\n",
    "    }\n",
    "    \n",
    "    if(marks>= 25 && marks <= 44)           // with this program the task is completed\n",
    "    {                                       //but is this the correct way to do it?\n",
    "        cout << \"E\";                        // no\n",
    "    }                                       // why not?\n",
    "    \n",
    "    if(marks>= 45 && marks <= 49)\n",
    "    {\n",
    "        cout << \"D\";\n",
    "    }                                       //with if conditions the program checks all the conditions\n",
    "                                            //even when the first condition is True\n",
    "    if(marks >= 50 && marks <= 59)          //the code runs and checks all the conditions\n",
    "    {                                       //a better way to do this is to use else if \n",
    "        cout << \"C\";                     \n",
    "    }\n",
    "    \n",
    "    if(marks >= 60 && marks <= 79)          //with else if the program checks the first condition\n",
    "    {                                       //if the first condition is true it runs the code and prints the output\n",
    "        cout << \"B\";                        //but if the first condition is false it checks the next condition\n",
    "    }                                       //until it finds a true condition and runs the code and prints the output\n",
    "                                            //this way the program is more efficient\n",
    "    if(marks >= 80 && marks <= 100)         \n",
    "    {                                       \n",
    "        cout << \"A\";                        \n",
    "    }                                       \n",
    "    \n",
    "    return 0;\n",
    "}"
   ]
  },
  {
   "cell_type": "code",
   "execution_count": null,
   "metadata": {},
   "outputs": [],
   "source": [
    "#include<bits/stdc++.h>\n",
    "\n",
    "using namespace std;\n",
    "\n",
    "int main()\n",
    "{\n",
    "    int marks;\n",
    "    cin >> marks;\n",
    "    \n",
    "    if(marks < 25)\n",
    "    {\n",
    "        cout << \"F\";\n",
    "    }\n",
    "    \n",
    "   else if(marks>= 25 && marks <= 44)           // if the marks are less than 25\n",
    "    {                                           // since the first condition is present\n",
    "        cout << \"E\";                            // we can exclude checking for marks >= 25 in second condition\n",
    "    }                                           // and so on\n",
    "     \n",
    "    else if(marks <= 49)\n",
    "    {\n",
    "        cout << \"D\";\n",
    "    }                                           \n",
    "                                        \n",
    "    else if(marks <= 59)         \n",
    "    {                                           \n",
    "        cout << \"C\";                     \n",
    "    }\n",
    "    \n",
    "    else if(marks <= 79)         \n",
    "    {                                           \n",
    "        cout << \"B\";                            \n",
    "    }                                           \n",
    "                                                \n",
    "    else if(marks <= 100)         \n",
    "    {                                       \n",
    "        cout << \"A\";                        \n",
    "    }                                       \n",
    "    \n",
    "    return 0;\n",
    "}"
   ]
  },
  {
   "cell_type": "markdown",
   "metadata": {},
   "source": [
    "#### Nested if-else\n",
    "#### \n",
    "#### Take the age from user and then decide accordingly\n",
    "#### 1. if age < 18,\n",
    "#### print -> \"not eligible for job\"\n",
    "#### 2. if age >= 18,\n",
    "#### print -> \"eligible for job\"\n",
    "#### 3. if age >= 55 and age <= 57,\n",
    "#### print -> \"eligible for job, but retirement soon\"\n",
    "#### 4. if age > 57,\n",
    "#### print -> \"retirement time\" "
   ]
  },
  {
   "cell_type": "code",
   "execution_count": null,
   "metadata": {},
   "outputs": [],
   "source": [
    "#include<bits/stdc++.h>\n",
    "\n",
    "using namespace std;\n",
    "\n",
    "int main()\n",
    "{\n",
    "    int age;\n",
    "    cin >> age;\n",
    "    \n",
    "    if(age < 18)\n",
    "    {\n",
    "        cout << \"not eligible for job\";\n",
    "    }\n",
    "    \n",
    "    else if(age <= 54)\n",
    "    {\n",
    "        cout << \"eligible for job\";\n",
    "    }\n",
    "    \n",
    "    else if(age <= 57)\n",
    "    {\n",
    "        cout << \"eligible for job, but retirement soon\";\n",
    "    }\n",
    "    \n",
    "    else\n",
    "    {\n",
    "        cout << \"retirement time\";\n",
    "    }\n",
    "    \n",
    "    return 0;\n",
    "}\n",
    "\n",
    "\n",
    "int main()\n",
    "{\n",
    "    int age;\n",
    "    cin >> age;\n",
    "    \n",
    "    if(age < 18)\n",
    "    {\n",
    "        cout << \"not eligible for job\";\n",
    "    }\n",
    "    \n",
    "    else if(age <= 57)\n",
    "    {                                               // nested way of writing the same code\n",
    "        cout << \"eligible for job\";\n",
    "        \n",
    "        if(age >= 55)\n",
    "        {\n",
    "            cout << \", but retirement soon\";\n",
    "        }\n",
    "    }\n",
    "    \n",
    "    else\n",
    "    {\n",
    "        cout << \"retirement time\";\n",
    "    }\n",
    "    \n",
    "    return 0;\n",
    "}"
   ]
  },
  {
   "cell_type": "markdown",
   "metadata": {},
   "source": [
    "#### Switch statement\n",
    "#### \n",
    "#### Take the day no. and print the corresponding day\n",
    "#### for 1 print Monday,\n",
    "#### for 2 print Tiesday and so on for 7 Sunday"
   ]
  },
  {
   "cell_type": "code",
   "execution_count": null,
   "metadata": {},
   "outputs": [],
   "source": [
    "#include<bits/stdc++.h>\n",
    "\n",
    "using namespace std;\n",
    "\n",
    "int main()\n",
    "{\n",
    "    int day;\n",
    "    cin >> day;\n",
    "    \n",
    "    switch(day)\n",
    "    {\n",
    "        case 1:\n",
    "            cout << \"Monday\";\n",
    "            break;\n",
    "        case 2:\n",
    "            cout << \"Tuesday\";\n",
    "            break;    \n",
    "        case 3:\n",
    "            cout << \"Wednesday\";            //switch case is used to check the value of a variable\n",
    "            break;                          //and run the code according to the value of the variable\n",
    "        case 4:                             //it is more efficient than using if else\n",
    "            cout << \"Thursday\";             //it is also easier to read\n",
    "            break;    \n",
    "        case 5:                             //the break statement is used to stop the code from running\n",
    "            cout << \"Friday\";               //if the condition is true\n",
    "            break;                          //if the break statement is not used the code will run\n",
    "        case 6:                             //and print the output of the true condition \n",
    "            cout << \"Saturday\";             //and also the output of the next condition\n",
    "            break;         \n",
    "        case 7:\n",
    "            cout << \"Sunday\";\n",
    "            break;    \n",
    "            \n",
    "        default:                            //the default statement is used to run the code\n",
    "            cout << \"Invalid input\";        //if none of the conditions are true\n",
    "    }\n",
    "    \n",
    "    return 0;\n",
    "}\n"
   ]
  },
  {
   "cell_type": "markdown",
   "metadata": {},
   "source": [
    "#### Array\n",
    "##### The elements in an array, the location/address of the 0th index is unknown\n",
    "##### but we can say with surity the the follow up elements will be stored in\n",
    "##### consecutive spaces in the memory/CPU."
   ]
  },
  {
   "cell_type": "code",
   "execution_count": null,
   "metadata": {},
   "outputs": [],
   "source": [
    "#include<bits/stdc++.h>\n",
    "\n",
    "using namespace std;\n",
    "\n",
    "int main()\n",
    "{\n",
    "    int arr[5];\n",
    "    \n",
    "    cin >> arr[0] >> arr[1] >> arr[2] >> arr[3] >> arr[4];    //input: 3 4 5 7 10 \n",
    "    \n",
    "    cout << arr[3];\n",
    "    \n",
    "    arr[3] += 10;                                             //arr[3] = arr[3] + 10\n",
    "                                                              //arr[3] = 7 + 10 -> 17\n",
    "    return 0;\n",
    "}"
   ]
  },
  {
   "cell_type": "markdown",
   "metadata": {},
   "source": [
    "#### 2D Array\n",
    "##### The unassigned value in an array fills themselves with garbage value."
   ]
  },
  {
   "cell_type": "code",
   "execution_count": null,
   "metadata": {},
   "outputs": [],
   "source": [
    "#include<bits/stdc++.h>\n",
    "\n",
    "using namespace std;\n",
    "\n",
    "int main()\n",
    "{\n",
    "    int arr[1][2] = 78;\n",
    "    \n",
    "    cout << arr[0][0] << \" \" << arr[1][2];         //output: 8796969 78  \n",
    "                                                   //in the above output the first value is garbage value \n",
    "    return 0;\n",
    "}"
   ]
  },
  {
   "cell_type": "markdown",
   "metadata": {},
   "source": [
    "#### String\n",
    "\n",
    "#### The string also stores characters in form of indexes"
   ]
  },
  {
   "cell_type": "code",
   "execution_count": null,
   "metadata": {},
   "outputs": [],
   "source": [
    "#include<bits/stdc++.h>\n",
    "\n",
    "using namespace std;\n",
    "\n",
    "int main()\n",
    "{\n",
    "    string s = \"Striver\";\n",
    "    \n",
    "    cout << s[0] << \" \" << s[3];        //output: S i \n",
    "                                        //in the above output the first value is the first character of the string     \n",
    "                                        //and the second value is the fourth character of the string \n",
    "    \n",
    "    int len = s.size();                            \n",
    "    cout << s[len-1];                   //output: r\n",
    "                                        \n",
    "    s[len-1] = 'a';                     //s[6] = 'a' -> s = \"Strivea\"\n",
    "                                        \n",
    "    return 0;                                     \n",
    "}"
   ]
  },
  {
   "cell_type": "markdown",
   "metadata": {},
   "source": [
    "#### For Loop - While Loop"
   ]
  },
  {
   "cell_type": "code",
   "execution_count": null,
   "metadata": {},
   "outputs": [],
   "source": [
    "#include<bits/stdc++.h>\n",
    "\n",
    "using namespace std;\n",
    "\n",
    "int main()\n",
    "{\n",
    "    cout << \"gamma\" << endl;      \n",
    "    \n",
    "    for(int i= 1; i<=10; i++)    //i++ can be i--, space for increment or decrement   \n",
    "    {\n",
    "        cout << \"gamma\" << endl;  //output: gamma 10 times as i<=10\n",
    "    }\n",
    "    \n",
    "    return 0;\n",
    "}\n"
   ]
  },
  {
   "cell_type": "markdown",
   "metadata": {},
   "source": [
    "#### While Loop"
   ]
  },
  {
   "cell_type": "code",
   "execution_count": null,
   "metadata": {},
   "outputs": [],
   "source": [
    "#include<bits/stdc++.h>\n",
    "\n",
    "using namespace std;\n",
    "\n",
    "int main()\n",
    "{\n",
    "    int i = 1;                    //1st initialization\n",
    "    while(i<=10)                  //2nd condition\n",
    "    {\n",
    "        cout << \"gamma\" << endl;  //output: gamma 10 times as i<=10\n",
    "        \n",
    "        i++;                      //3rd increment\n",
    "    }\n",
    "    \n",
    "    return 0;\n",
    "}\n"
   ]
  },
  {
   "cell_type": "markdown",
   "metadata": {},
   "source": [
    "#### Do-While Loop\n",
    "\n",
    "##### if the 1st initialization is out of scope of the 2nd condition the loop is not executed\n",
    "\n",
    "\n",
    "##### But if you want the loop to be executed atleast once use do-while loop"
   ]
  },
  {
   "cell_type": "code",
   "execution_count": null,
   "metadata": {},
   "outputs": [],
   "source": [
    "#include<bits/stdc++.h>\n",
    "\n",
    "using namespace std;\n",
    "\n",
    "int main()\n",
    "{\n",
    "    int i = 1;                    //1st initialization\n",
    "    \n",
    "    do                            //do while loop is used to run the code at least once\n",
    "    {\n",
    "        cout << \"gamma\" << endl;  //output: gamma 10 times as i<=10\n",
    "        \n",
    "        i++;                      //3rd increment\n",
    "    }while(i<=10);                //2nd condition\n",
    "    \n",
    "    return 0;\n",
    "}\n"
   ]
  },
  {
   "cell_type": "markdown",
   "metadata": {},
   "source": [
    "#### Functions \n",
    "\n",
    "###### /Fucntions are set of code which performs something for you\n",
    "###### /Functions are used to modularise code\n",
    "###### /Functions are used to increase readability\n",
    "###### /Functions are used to use same code multiple times"
   ]
  },
  {
   "cell_type": "markdown",
   "metadata": {},
   "source": [
    "#### Types of Functions\n",
    "###### void -> which does not return anything\n",
    "###### return \n",
    "###### parameterised \n",
    "###### non-parameterised "
   ]
  },
  {
   "cell_type": "code",
   "execution_count": null,
   "metadata": {},
   "outputs": [],
   "source": [
    "#include<bits/stdc++.h>\n",
    "\n",
    "using namespace std;\n",
    "\n",
    "void printName()               //function to print name without any input/parameter: Non-Parameterized Function\n",
    "{                              //void is used to specify that the function does not return any value\n",
    "    cout << \"Gamma\";\n",
    "}\n",
    "\n",
    "void printName2(string name)   //function to print name with input/parameter: Parameterized Function\n",
    "{\n",
    "    cout <<\"Hey\" << name;\n",
    "}\n",
    "\n",
    "int main()\n",
    "{\n",
    "    printName();        //output: Gamma\n",
    "    \n",
    "    string n;\n",
    "    cin >> n;          //input: Striver\n",
    "    \n",
    "    printName2(n);  //output: Hey Striver\n",
    "    return 0;\n",
    "}\n"
   ]
  },
  {
   "cell_type": "code",
   "execution_count": null,
   "metadata": {},
   "outputs": [],
   "source": [
    "#include<bits/stdc++.h>\n",
    "\n",
    "using namespace std;\n",
    "\n",
    "int sum(int num1,int num2)  //every function has a return type, function name, and parameters\n",
    "{                           //the return type is the type of value the function returns\n",
    "    int num3 = num1+num2;   //function to add two numbers and return the sum\n",
    "    return num3;\n",
    "}\n",
    "\n",
    "int main()\n",
    "{\n",
    "    int a,b;\n",
    "    cin >> a >> b;    //input: 5 6\n",
    "    sum(a,b);         //output: 11\n",
    "    \n",
    "    return 0;\n",
    "}\n"
   ]
  },
  {
   "cell_type": "markdown",
   "metadata": {},
   "source": [
    "#### Function: Pass by value"
   ]
  },
  {
   "cell_type": "code",
   "execution_count": null,
   "metadata": {},
   "outputs": [],
   "source": [
    "#include<bits/stdc++.h>\n",
    "using namespace std;\n",
    "\n",
    "void doSomething(int num)     //a duplicate value(copy value) from main() is copied to the function\n",
    "{\n",
    "    cout << num << endl;\n",
    "    num += 5;\n",
    "    cout << num << endl;\n",
    "    num += 5;\n",
    "    cout << num << endl;\n",
    "}\n",
    "\n",
    "int main()\n",
    "{\n",
    "    int number=10;\n",
    "    doSomething(number);\n",
    "    cout << number << endl;    //output: 10 15 20 10 \n",
    "                               //the value of number in main() is not changed, pass by value.\n",
    "    return 0;\n",
    "}"
   ]
  },
  {
   "cell_type": "markdown",
   "metadata": {},
   "source": [
    "#### Function: Pass by Reference"
   ]
  },
  {
   "cell_type": "code",
   "execution_count": null,
   "metadata": {},
   "outputs": [],
   "source": [
    "#include<bits/stdc++.h>\n",
    "using namespace std;\n",
    "\n",
    "void doSomething(int &num)     //an address from main(), the original value is passed to the function\n",
    "{                              //the value of the variable in main() is changed\n",
    "    cout << num << endl;       //pass by reference: &num\n",
    "    num += 5;\n",
    "    cout << num << endl;\n",
    "    num += 5;\n",
    "    cout << num << endl;\n",
    "}\n",
    "\n",
    "int main()\n",
    "{\n",
    "    int number=10;\n",
    "    doSomething(number);\n",
    "    cout << number << endl;    //output: 10 15 20 20 \n",
    "                               //the value of number in main() is  changed, pass by reference.\n",
    "    return 0;\n",
    "}"
   ]
  },
  {
   "cell_type": "markdown",
   "metadata": {},
   "source": [
    "##### Array is always passed by reference, others like vectors, maps, lists need & sign to pass by reference"
   ]
  },
  {
   "cell_type": "code",
   "execution_count": null,
   "metadata": {},
   "outputs": [],
   "source": [
    "#include<bits/stdc++.h>\n",
    "using namespace std;\n",
    "\n",
    "void doSomething(int arr[],int n)  \n",
    "{                              \n",
    "    arr[0] +=100;\n",
    "    cout << \"Value inside Function: \" << arr[0] << endl;       //output: 110\n",
    "}\n",
    "\n",
    "int main()\n",
    "{\n",
    "    int n = 5;\n",
    "    int arr[n];\n",
    "    for(int i=0; i<n; i++)\n",
    "    {\n",
    "        cin >> arr[i];  //input: 10 20 30 40 50\n",
    "    }\n",
    "    \n",
    "    doSomething(arr,n);   \n",
    "    \n",
    "    cout << \"Value inside Main: \" << arr[0] << endl;           //output: 110\n",
    "    \n",
    "    return 0;\n",
    "}"
   ]
  }
 ],
 "metadata": {
  "kernelspec": {
   "display_name": "Python 3",
   "language": "python",
   "name": "python3"
  },
  "language_info": {
   "codemirror_mode": {
    "name": "ipython",
    "version": 3
   },
   "file_extension": ".py",
   "mimetype": "text/x-python",
   "name": "python",
   "nbconvert_exporter": "python",
   "pygments_lexer": "ipython3",
   "version": "3.10.11"
  },
  "orig_nbformat": 4
 },
 "nbformat": 4,
 "nbformat_minor": 2
}
